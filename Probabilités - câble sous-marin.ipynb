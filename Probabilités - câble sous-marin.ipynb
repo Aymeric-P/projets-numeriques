{
 "cells": [
  {
   "cell_type": "markdown",
   "metadata": {},
   "source": [
    "# Projet Numérique : câble sous-marin\n",
    "\n",
    "#### GUITET Quentin et PLESSIER Aymeric "
   ]
  },
  {
   "cell_type": "markdown",
   "metadata": {},
   "source": [
    "# Enoncé du problème\n",
    "\n",
    "L'objectif de ce projet est d'estimer la longueur de câble sous-marin nécessaire pour relier deux côtes $A$ et $B$  en utilisant des simulations conditionnelles.\n",
    "\n",
    "\n",
    "Le câble reposera sur le fond marin dont la profondeur est inconnue.\n",
    "Le segment $[AB]$ est discrétisé par une séquence de (N+1) points. On pose $x_0=A$ et pour $i=1,\\dots,N$, $$x_i=x_0+i\\Delta$$ où $$\\Delta = \\frac{AB}{N}$$ de telle sorte que $x_N=B$.\n",
    "On note $z(x)$ la profondeur du fond marin au point $x$ de telle sorte \n",
    "qu'on pourra estimer la longueur totale de câble nécessaire par la somme \n",
    "des longueurs sur les segments de la discrétisation :\n",
    "\n",
    "$$l=\\sum_{i=1}^N\\sqrt{\\Delta^2+(z(x_i)-z(x_{i-1}))^2}.$$\n",
    "\n",
    "Enfin, notons que l'on dispose d'un ensemble de $n$ observations de la \n",
    "profondeur que l'on supposera situées sur des points de discrétisation $z(x_{j_1}),\\dots,z(x_{j_n})$.\n",
    "\n",
    "\n",
    "On adopte un modèle probabiliste pour la profondeur. On suppose que le vecteur des \n",
    "profondeurs sur les points de discrétisation \n",
    "$\\mathbf{z}=(z(x_0),\\dots,z(x_N))$ est la réalisation\n",
    "d'un vecteur aléatoire gaussien $\\mathbf{Z}=(Z(x_0),\\dots,Z(x_N))$ \n",
    "dont le vecteur d'espérance ne contient qu'une seule valeur $\\mu$ \n",
    "répétée $N+1$ fois et dont la matrice de covariance $\\Sigma$ a pour termes $\\sigma_{ij}$\n",
    "définis par $\\sigma_{ij}=C(|x_i-x_j|)$ où $C$ est une\n",
    "fonction décroissante, traduisant le fait que deux points \n",
    "géographiquement proches ont tendance à avoir des profondeurs plus similaires que deux points éloignés.\n",
    "\n",
    "On supposera que la matrice de covariance ainsi \n",
    "générée est définie-positive (en fait, $C$ sera choisie parmi les fonctions qui, \n",
    "appliquées aux termes d'une matrice de distance, produisent des matrices définie-positives). \n",
    "\n",
    "Si on note $L$ la variable aléatoire donnant la longueur de cable nécessaire : \n",
    "$$L=\\sum_{i=1}^N\\sqrt{\\Delta^2+(Z(x_i)-Z(x_{i-1}))^2},$$\n",
    "un bon estimateur de $L$ est fourni par l'espérance conditionnelle \n",
    "\n",
    "$$L^\\star=E[L|Z(x_{j_1})=z(x_{j_1}),\\dots,Z(x_{j_n})=z(x_{j_n})].$$\n",
    "                                                                              \n",
    "Cependant, cette quantité est difficilement accessible par le calcul. \n",
    "On va donc avoir recours à des\n",
    "simulations conditionnelles. C'est-à-dire que l'on va simuler \n",
    "un nombre $K$ de réalités (disons des réalisations du modèle \n",
    "probabiliste choisi), et sur chacune d'entre elle, \n",
    "la quantité de câble nécessaire sera évaluée. \n",
    "On disposera ainsi d'un échantillon $l_{(1)},\\dots,l_{(K)}$ de \n",
    "longueures simulées. Puis on approchera l'espérance conditionnelle  par \n",
    "$$L^\\star= \\frac{1}{K} \\sum_{k=1}^K l_{(k)}.$$\n",
    "\n",
    "L'objectif de ce projet est donc d'écrire un code permettant \n",
    "d'effectuer cette simulation conditionnelle, puis de l'appliquer \n",
    "au jeu de données fourni et d'en déduire une estimation de la longueur de câble nécessaire."
   ]
  },
  {
   "cell_type": "markdown",
   "metadata": {},
   "source": [
    "# Questions théoriques\n",
    "\n",
    "1. Quel théorème du cours nous autorise-t-il à estimer l'espérance conditionnelle par la moyenne empirique de simulations conditionnelles ?\n"
   ]
  },
  {
   "cell_type": "markdown",
   "metadata": {},
   "source": [
    "---\n",
    "\n",
    "Soit des variables aléatoires $X$ et $Y$ et on cherche à estimer l'espérance de la variable aléatoire $Z$ qui suit la loi de $X$ sachant l'événement $\\left\\{Y=y\\right\\}$, c'est-à-dire qu'on veut estimer la quantité $\\mathbb{E}(X|Y=y)$. \n",
    "Pour $y$ fixé, on considère une suite de réalisations $(Z_i)_{i \\in \\mathbb{N}}$, toutes indépendantes et suivant la même loi que $Z$ et intégrables.\n",
    "Alors, d'aprés la loi forte des grands nombres, la variable aléatoire \n",
    "\n",
    "$$M_n= \\frac{Z_0+ \\dots+ Z_n}{n}$$ \n",
    "\n",
    "correspondant à la moyenne empirique tend presque sûrement, lorsque $n$ tend vers l'infini, vers l'espérance de $Z$, soit\n",
    "\n",
    "$$M_n= \\frac{Z_0+ \\dots+ Z_n}{n} \\overset{p.s.}{\\underset{n \\rightarrow \\infty}{\\rightarrow}} \\mathbb{E}(Z) = \\mathbb{E}(X|Y=y)$$\n",
    "\n",
    "---"
   ]
  },
  {
   "cell_type": "markdown",
   "metadata": {},
   "source": [
    "2. Rappeler la loi conditionnelle du vecteur des composantes de $\\mathbf{Z}$ correspondant aux points de discrétisation\n",
    "sans observation, connaissant les valeurs prises par les composantes aux sites d'observation."
   ]
  },
  {
   "cell_type": "markdown",
   "metadata": {},
   "source": [
    "---\n",
    "On considère le vecteur aléatoire gaussien $\\mathbf{Z} = \\big(Z(x_0), \\dots, Z(x_N)\\big)$ de taille $N$, de vecteur espérance $\\mu$ et de matrice de covariance $\\Sigma_Z$.\n",
    "\n",
    "On pose le vecteur alétoire des observations prenant une valeur particulière $\\mathbf{O} = \\big(z(x_{j_1}), \\dots, z(x_{j_n})\\big) = z$ de taille $n$.\n",
    "\n",
    "On pose $p = N - n + 1$, et on pose aussi le vecteur aléatoire des points de discrétisation sans observation, c'est-à-dire le vecteur des cotes inconnues $\\mathbf{Z}_i = \\big(z(x_{k_1}), \\dots, z(x_{k_p})\\big) = \\big(z(x_0), \\dots, \\hat{z}(x_{j_1}), \\dots, \\hat{z}(x_{j_n}), \\dots, z(x_N)\\big)$, le vecteur $\\mathbf{Z}_i$ est donc le vecteur $\\mathbf{Z}$ privé des cotes en les points d'observations $z(x_{j_i})_{i \\le n}$, soit le vecteur $\\mathbf{Z}$ en les points inconnus notés $z(x_{k_i})_{i \\le p}$. Le vecteur $\\mathbf{Z}_i$ est donc de taille $p$.\n",
    "\n",
    "On notera aussi $\\Sigma_O$ la matrice de coavariance de $\\mathbf{O}$, soit la matrice de covariance entre les observations, on notera $\\Sigma_{Z_i}$ la matrice de covariance de $\\mathbf{Z}_i$, et on notera $\\Sigma_{O,Z_i}$ la matrice de covariance entre les observations et les inconnues.\n",
    "\n",
    "On cherche à determiner la loi suivie par la variable aléatoire $\\mathbf{Y}$ qui suit la loi du vecteur $\\mathbf{Z}$ sachant que $\\mathbf{O}=z$.\n",
    "\n",
    "D'aprés le cours sur les vecteurs gaussiens à densité, le vecteur aléatoire $\\mathbf{Y}$ est aussi gaussien et est déterminé par son vecteur espérance $\\mathbb{E}(\\mathbf{Y})$ et sa matrice de covariance $\\Sigma_Y$ dont les expressions sont les suivantes :\n",
    "\n",
    "$$ \\mathbb{E}(\\mathbf{Y}) = \\mathbb{E}(\\mathbf{Z}_i) + \\Sigma_{O,Z_i}^t \\cdot \\Sigma_O ^{-1} \\big(z - \\mathbb{E}(\\mathbf{O}) \\big) $$\n",
    "\n",
    "$$ \\Sigma_Y = \\Sigma_{Z_i}- \\Sigma_{O,Z_i}^t\\cdot \\Sigma_O ^{-1} \\cdot \\Sigma_{O,Z_i} $$\n",
    "\n",
    "---"
   ]
  },
  {
   "cell_type": "markdown",
   "metadata": {},
   "source": [
    "3. Si $\\mathbf{Y}=(Y_1,\\dots,Y_p)$ est un vecteur de composantes gaussiennes indépendantes, toutes d'espérance nulle et de variance 1, \n",
    "quelle est la loi du vecteur $\\mathbf{Z}=m+R\\mathbf{Y}$ où $R$ est une matrice $p\\times p$ et $m$ est un vecteur de taille $p$ ?"
   ]
  },
  {
   "cell_type": "markdown",
   "metadata": {},
   "source": [
    "---\n",
    "Si $\\mathbf{Y}$ est un vecteur gaussien centré et réduit, alors, d'après le cours sur la simulation d'un vecteur gaussien, le vecteur aléatoire $\\mathbf{Z}$ défini par $\\mathbf{Z}=m+R\\mathbf{Y}$ est un vecteur gaussien tel que :\n",
    "\n",
    "$$ \\mathbb{E}(\\mathbf{Z}) = m $$\n",
    "$$ \\mathbb{V}(\\mathbf{Z}) = R \\cdot R^t $$\n",
    "\n",
    "---"
   ]
  },
  {
   "cell_type": "markdown",
   "metadata": {},
   "source": [
    "4. En déduire un algorithme de simulation conditionnelle."
   ]
  },
  {
   "cell_type": "markdown",
   "metadata": {},
   "source": [
    "---\n",
    "On souhaite écrire un algorithme dont l'objectif est de simuler un vecteur gaussien $\\mathbf{Y}$ suivant la loi de la variable $\\mathbf{Z}$ sachant que $\\mathbf{O}=z$. D'aprés la question 2, cela revient à simuler un vecteur gaussien $\\mathbf{Y}$ tel que \n",
    "\n",
    "$$ \\mathbb{E}(\\mathbf{Y}) = \\mathbb{E}(\\mathbf{Z}_i) + \\Sigma_{O,Z_i}^t \\cdot \\Sigma_O ^{-1} \\big(z - \\mathbb{E}(\\mathbf{O}) \\big) $$\n",
    "\n",
    "$$ \\Sigma_Y = \\Sigma_{Z_i}- \\Sigma_{O,Z_i}^t\\cdot \\Sigma_O ^{-1} \\cdot \\Sigma_{O,Z_i} $$\n",
    "\n",
    "Pour simuler un tel vecteur, on propose l'algorithme suivant.\n",
    "\n",
    "Entrées :\n",
    "\n",
    "$\\rightarrow$ Les points d'obseravtion $x_{j_1},\\dots,x_{j_n}$ \\\n",
    "$\\rightarrow$ Les observations en ces points $z = (z(x_{j_1}),\\dots,z(x_{j_n}))$ \\\n",
    "$\\rightarrow$ La moyenne des mesures $\\mu$ \\\n",
    "$\\rightarrow$ Les points de discrétisation $x_0,\\dots,x_N$ \\\n",
    "$\\rightarrow$ La fonction $C$ pour le calcul des matrices de covariance\n",
    "\n",
    "Algorithme :\n",
    "\n",
    "$\\rightarrow$ On simule un vecteur gaussien centré réduit $\\mathbf{T} =(T_0, \\dots , T_N)$ \\\n",
    "$\\rightarrow$ On calcule $\\Sigma_Y = \\Sigma_{Z_i}- \\Sigma_{O,Z_i}^t\\cdot \\Sigma_O ^{-1} \\cdot \\Sigma_{O,Z_i}$ à partir de la fonction $C$ et des abscisses de discrétisation \\\n",
    "$\\rightarrow$ On effectue la décomposition de Cholesky de la matrice $\\Sigma_Y$ afin d'obtenir $R$ triangulaire inférieure telle que $\\Sigma_Y = R \\cdot R^t$ \\\n",
    "$\\rightarrow$ On calcule $\\mathbb{E}(\\mathbf{Y}) = \\mathbb{E}(\\mathbf{Z}_i) + \\Sigma_{O,Z_i}^t \\cdot \\Sigma_O ^{-1} \\big(z - \\mathbb{E}(\\mathbf{O}) \\big)$ sachant que l'espérance des observations est calculée selon la moyenne empirique $\\mathbb{E}(\\mathbf{O}) = \\frac{1}{n} \\sum_{i=1}^n x_{j_i}$\n",
    "\n",
    "Sortie :\n",
    "\n",
    "$\\rightarrow$ On renvoie $\\mathbf{Y} = \\mathbb{E}(\\mathbf{Y}) + R \\cdot \\mathbf{T}$\n",
    "\n",
    "---"
   ]
  },
  {
   "cell_type": "markdown",
   "metadata": {},
   "source": [
    "# Données du problème\n",
    "Conventionnellement, $A$ est l'origine, $B=500$, $N=100$.\n",
    "\n",
    "Les données $$\\begin{array}{c|r}i & z(x_i)\\\\\n",
    "\\hline\n",
    "0 & 0\\\\\n",
    "20 & -4\\\\\n",
    "40 & -12.8\\\\\n",
    "60 & -1\\\\\n",
    "80 & -6.5\\\\\n",
    "100 & 0\\end{array}$$\n",
    "\n",
    "L'espérance de chaque composante du vecteur aléatoire $\\mathbf{Z}$ est donnée par $\\mu=-5.$\n",
    "\n",
    "La fonction $C$ est définie par $$C(h)=\\sigma^2 e^{-|h|/a},$$\n",
    "\n",
    "où $|h|$ correspond à la distance entre deux points, $a=50$ et $\\sigma^2=12$.\n"
   ]
  },
  {
   "cell_type": "markdown",
   "metadata": {},
   "source": [
    "# Implémentation"
   ]
  },
  {
   "cell_type": "markdown",
   "metadata": {},
   "source": [
    "## Préambule"
   ]
  },
  {
   "cell_type": "code",
   "execution_count": 2,
   "metadata": {},
   "outputs": [],
   "source": [
    "#Chargement de dépendances\n",
    "\n",
    "import numpy as np\n",
    "import matplotlib.pyplot as plt\n",
    "\n",
    "#Discrétisation\n",
    "A=0\n",
    "B=500\n",
    "N=101 #Nombre de points de discrétisation\n",
    "Delta = (B-A)/(N-1)\n",
    "discretization_indexes = np.arange(N)\n",
    "discretization = discretization_indexes*Delta\n",
    "#Paramètres du modèle\n",
    "\n",
    "mu=-5\n",
    "a = 50\n",
    "sigma2 = 12\n",
    "\n",
    "#Données\n",
    "\n",
    "observation_indexes = [0,20,40,60,80,100]\n",
    "depth = np.array([0,-4,-12.8,-1,-6.5,0])\n",
    "\n",
    "#Indices des composantes correspondant aux observations et aux componsantes non observées\n",
    "\n",
    "unknown_indexes=list(set(discretization_indexes)-set(observation_indexes))\n",
    "\n",
    "# On rajoute ici une fonction auxiliaire qui sera utile par la suite, pour afficher les résultats des simulations\n",
    "\n",
    "def fusion(i,o,observation_indexes=observation_indexes) :\n",
    "    \"\"\"Effectue une fusion de deux vecteurs aleatoires, l'un des valeurs mesurees,\n",
    "    l'autre des valeurs simulees / des esperances simulees. Sert pour l'affichage notamment.\"\"\"\n",
    "    N = i.shape[0]+o.shape[0]\n",
    "    n = o.shape[0]\n",
    "    sortie = np.zeros(N)\n",
    "    sauts = 0\n",
    "    for j in range(N) :\n",
    "        if sauts<n and observation_indexes[sauts]==j :\n",
    "            sortie[j] = o[sauts]\n",
    "            sauts+=1\n",
    "        else :\n",
    "            sortie[j] = i[j-sauts]\n",
    "    return sortie\n"
   ]
  },
  {
   "cell_type": "markdown",
   "metadata": {},
   "source": [
    "## Questions\n",
    "\n",
    "1. Ecrire une fonction qui prend en argument la distance entre les points, le paramètre $a$, et le paramètre $\\sigma^2$, et qui retourne la covariance entre deux points.\n",
    "On pourra fournir une matrice de distance à cette fonction. Dans ce cas, la fonction renverra la matrice de covariance."
   ]
  },
  {
   "cell_type": "code",
   "execution_count": 3,
   "metadata": {},
   "outputs": [],
   "source": [
    "#On definit la fonction C prenant en argument la distance h, et les parametres a et sigma2\n",
    "\n",
    "def C(h, a=a, sigma2=sigma2):\n",
    "    return sigma2*np.exp(-h/a)\n",
    "\n",
    "#On vectorise la fonction afin de pouvoir l'appliquer à une matrice des disatnces D et obtenir la matrice de covariance\n",
    "\n",
    "Cov = np.vectorize(C)"
   ]
  },
  {
   "cell_type": "markdown",
   "metadata": {},
   "source": [
    "2. Calculer la matrice de distance."
   ]
  },
  {
   "cell_type": "code",
   "execution_count": 4,
   "metadata": {},
   "outputs": [
    {
     "data": {
      "text/plain": [
       "array([[  0.,   5.,  10., ..., 490., 495., 500.],\n",
       "       [  5.,   0.,   5., ..., 485., 490., 495.],\n",
       "       [ 10.,   5.,   0., ..., 480., 485., 490.],\n",
       "       ...,\n",
       "       [490., 485., 480., ...,   0.,   5.,  10.],\n",
       "       [495., 490., 485., ...,   5.,   0.,   5.],\n",
       "       [500., 495., 490., ...,  10.,   5.,   0.]])"
      ]
     },
     "execution_count": 4,
     "metadata": {},
     "output_type": "execute_result"
    }
   ],
   "source": [
    "#On appelle la matrice de distance entre les inconnues distances_z\n",
    "\n",
    "distances_z = np.zeros((N,N),dtype=np.float64)\n",
    "\n",
    "for i in range(N) :\n",
    "    for j in range(N) :\n",
    "        distances_z[i,j] = abs(discretization[i]-discretization[j])\n",
    "        \n",
    "distances_z"
   ]
  },
  {
   "cell_type": "markdown",
   "metadata": {},
   "source": [
    "3. Calculer la matrice de covariance du vecteur $\\mathbf{Z}=(Z(x_0),\\dots,Z(x_N))$."
   ]
  },
  {
   "cell_type": "code",
   "execution_count": 5,
   "metadata": {},
   "outputs": [],
   "source": [
    "sigma_z = C(distances_z) # matrice de covariance de Z"
   ]
  },
  {
   "cell_type": "markdown",
   "metadata": {},
   "source": [
    "4. Extraire les 3 matrices de covariance suivantes :\n",
    "\n",
    " * entre les observations\n",
    "\n",
    " * entre les observations et les inconnues\n",
    "\n",
    " * entre les inconnues\n"
   ]
  },
  {
   "cell_type": "code",
   "execution_count": 6,
   "metadata": {},
   "outputs": [],
   "source": [
    "# on extrait les matrices de covariance\n",
    "\n",
    "sigma_o = sigma_z[observation_indexes][:,observation_indexes] # matrice de covariance de O (observations)\n",
    "sigma_i = sigma_z[unknown_indexes][:,unknown_indexes] # matrice de covariance correpondant aux inconnues\n",
    "sigma_oz = sigma_z[observation_indexes][:,unknown_indexes] # matrice de covariance entre les observations et les inconnues\n"
   ]
  },
  {
   "cell_type": "markdown",
   "metadata": {},
   "source": [
    "5. Calculer l'espérance conditionnelle des composantes non observées connaissant les observations et la représenter avec les données."
   ]
  },
  {
   "cell_type": "code",
   "execution_count": 7,
   "metadata": {
    "scrolled": true
   },
   "outputs": [
    {
     "data": {
      "image/png": "[encoded data removed]",
      "text/plain": [
       "<Figure size 432x288 with 1 Axes>"
      ]
     },
     "metadata": {
      "needs_background": "light"
     },
     "output_type": "display_data"
    }
   ],
   "source": [
    "#On calcule l'espérance EY de la loi de la variable Y de la question 4. de la première partie \n",
    "\n",
    "n = len(depth)\n",
    "\n",
    "EO = depth.mean()*np.ones(n) # moyenne empirique des observations\n",
    "\n",
    "EY = mu * np.ones(N-n) + np.dot(np.matrix.transpose(sigma_oz), np.dot(np.linalg.inv(sigma_o), depth - EO))\n",
    "\n",
    "plt.scatter(np.arange(N), fusion(EY,depth))\n",
    "plt.show()"
   ]
  },
  {
   "cell_type": "markdown",
   "metadata": {},
   "source": [
    "Remarque : le résultat obtenu est assez surprenant\n",
    "\n",
    "On peut essayer d'expliquer ce résultat surprenant, où les points de mesures semblent décalés en moyenne par rapport au reste. \n",
    "\n",
    "En effet, on fait une hypothèse de stationnarité sur le fond marin, dont la profondeur vaut en moyenne $\\mu$, mais dans le contexte de l'exercice, cette moyenne ne pourrait être accessible qu'à partir des obseravtions effectuées, on prendrait donc naturellement comme moyenne celle des observations, à défaut d'avoir accès à d'autres données. On choisirait alors $\\mu = \\frac{1}{n} \\sum_{i=1}^n x_{j_i} = \\mathbb{E}(\\mathbf{O})$.\n",
    "\n",
    "En visualisant le résultat avec cette correction, cela semble moins surprenant, mais on continuera l'exercice avec $\\mu = -5$."
   ]
  },
  {
   "cell_type": "code",
   "execution_count": 8,
   "metadata": {},
   "outputs": [
    {
     "data": {
      "image/png": "[encoded data removed]",
      "text/plain": [
       "<Figure size 432x288 with 1 Axes>"
      ]
     },
     "metadata": {
      "needs_background": "light"
     },
     "output_type": "display_data"
    }
   ],
   "source": [
    "#Visualisation de la correction proposée\n",
    "\n",
    "EY2 =  depth.mean() * np.ones(N-n) + np.dot(np.matrix.transpose(sigma_oz), np.dot(np.linalg.inv(sigma_o), depth - EO))\n",
    "\n",
    "plt.scatter(np.arange(N), fusion(EY2,depth))\n",
    "plt.show()"
   ]
  },
  {
   "cell_type": "markdown",
   "metadata": {},
   "source": [
    "6. Calculer la matrice de variance conditionnelle et tracer sa diagonale (variance conditionnelle) en fonction de la position. Commenter."
   ]
  },
  {
   "cell_type": "code",
   "execution_count": 25,
   "metadata": {},
   "outputs": [
    {
     "data": {
      "image/png": "[encoded data removed]",
      "text/plain": [
       "<Figure size 432x288 with 1 Axes>"
      ]
     },
     "metadata": {
      "needs_background": "light"
     },
     "output_type": "display_data"
    }
   ],
   "source": [
    "sigma_y = sigma_i - np.dot(np.matrix.transpose(sigma_oz), np.dot(np.linalg.inv(sigma_o),sigma_oz))\n",
    "\n",
    "plt.scatter(np.arange(N), fusion(sigma_y.diagonal(),np.zeros(n)))\n",
    "plt.show()"
   ]
  },
  {
   "cell_type": "markdown",
   "metadata": {},
   "source": [
    "A mesure qu'on s'éloigne des points d'obervation, la variance pour une profondeur à une abscisse donnée augmente : cela traduit l'incertitude qui augmente à mesure qu'on s'éloigne des points d'observation.\n",
    "Remarque : pour des raisons de cohérence intuitive, nous avons mis la \"variance\" à 0 au niveau des points d'observation"
   ]
  },
  {
   "cell_type": "markdown",
   "metadata": {},
   "source": [
    "7. Effectuer une simulation conditionnelle. Sur un même graphique, tracer la simulation ainsi que les données et l'espérance conditionnelle. Commenter."
   ]
  },
  {
   "cell_type": "code",
   "execution_count": 26,
   "metadata": {},
   "outputs": [
    {
     "data": {
      "image/png": "[encoded data removed]",
      "text/plain": [
       "<Figure size 432x288 with 1 Axes>"
      ]
     },
     "metadata": {
      "needs_background": "light"
     },
     "output_type": "display_data"
    }
   ],
   "source": [
    "# Décomposition de Cholesky\n",
    "R = np.linalg.cholesky(sigma_y)\n",
    "\n",
    "\"\"\"\n",
    "# Remarque : en exécutant le code ci-dessous, on se rend compte que la décomposition est très loin d'être parfaite...\n",
    "print(np.dot(R,np.matrix.transpose(R))[0])\n",
    "print(sigma_y[0])\n",
    "\n",
    "\"\"\"\n",
    "\n",
    "# Simulation d'un vecteur aléatoire T\n",
    "\n",
    "def simulation_Y() :\n",
    "    T = np.random.normal(size=N-n)\n",
    "\n",
    "    # Calcul de Y\n",
    "\n",
    "    return EY + np.dot(R,T)\n",
    "\n",
    "Y = simulation_Y()\n",
    "\n",
    "Z = fusion(Y,depth)\n",
    "\n",
    "# Représentation\n",
    "\n",
    "plt.scatter(np.arange(N), fusion(EY,depth))\n",
    "plt.plot(np.arange(N), Z, color='red')\n",
    "plt.show()\n"
   ]
  },
  {
   "cell_type": "markdown",
   "metadata": {},
   "source": [
    "8. Ecrire une fonction qui calcule la longueur du câble en fonction du vecteur des profondeurs et du pas de discrétisation."
   ]
  },
  {
   "cell_type": "code",
   "execution_count": 27,
   "metadata": {},
   "outputs": [
    {
     "name": "stdout",
     "output_type": "stream",
     "text": [
      "523.4463556905572\n"
     ]
    }
   ],
   "source": [
    "def l(Z, Delta=Delta) :\n",
    "    Delta2 = Delta * Delta\n",
    "    L = 0\n",
    "    p = Z.shape[0]-1\n",
    "    for i in range(p) :\n",
    "        L += np.sqrt(Delta2+(Z[i]-Z[i+1])**2)\n",
    "    return L\n",
    "\n",
    "L = l(Z)\n",
    "print(L)"
   ]
  },
  {
   "cell_type": "markdown",
   "metadata": {},
   "source": [
    "9. Utiliser cette fonction pour calculer la longueur du câble à partir de 100 simulations. Comparer l'espérance conditionnelle (estimée) de la longueur avec la longueur de l'espérance conditionnelle."
   ]
  },
  {
   "cell_type": "code",
   "execution_count": 28,
   "metadata": {},
   "outputs": [
    {
     "name": "stdout",
     "output_type": "stream",
     "text": [
      "Espérance conditionnelle simulée : 522.8249029434724\n",
      "Espérance conditionnelle calculée : 502.4338471728241\n"
     ]
    }
   ],
   "source": [
    "def simulation_L() :\n",
    "    Y = simulation_Y()\n",
    "    Z = fusion(Y,depth)\n",
    "    return l(Z)\n",
    "\n",
    "simulations = [simulation_L() for i in range(100)]\n",
    "\n",
    "print(\"Espérance conditionnelle simulée :\", np.mean(simulations))\n",
    "print(\"Espérance conditionnelle calculée :\", l(fusion(EY,depth)))"
   ]
  },
  {
   "cell_type": "markdown",
   "metadata": {},
   "source": [
    "Remarque : cette différence d'une vingtaine est extrêmement bizarre, d'autant que l'espérance simulée est très stable. Peut-être y a-t-il un problème à mettre en lien avec les résultats obtenus en question 5 ?"
   ]
  },
  {
   "cell_type": "markdown",
   "metadata": {},
   "source": [
    "10. Représenter la suite $M_n$ des moyennes des longueurs de câbles en fonction du nombre de simulations. Commenter."
   ]
  },
  {
   "cell_type": "code",
   "execution_count": 29,
   "metadata": {},
   "outputs": [
    {
     "data": {
      "image/png": "[encoded data removed]",
      "text/plain": [
       "<Figure size 432x288 with 1 Axes>"
      ]
     },
     "metadata": {
      "needs_background": "light"
     },
     "output_type": "display_data"
    }
   ],
   "source": [
    "M = []\n",
    "S = 0\n",
    "for i in range(100) :\n",
    "    S+=simulations[i]\n",
    "    M.append(S/(i+1))\n",
    "\n",
    "plt.scatter(np.arange(100),M)\n",
    "plt.show()"
   ]
  },
  {
   "cell_type": "markdown",
   "metadata": {},
   "source": [
    "On peut voir la convergence de la moyenne empirique, comme prévu par la loi des grands nombres."
   ]
  },
  {
   "cell_type": "markdown",
   "metadata": {},
   "source": [
    "11. Représenter l'histogramme des longueurs de câbles générées."
   ]
  },
  {
   "cell_type": "code",
   "execution_count": 30,
   "metadata": {},
   "outputs": [
    {
     "data": {
      "image/png": "[encoded data removed]",
      "text/plain": [
       "<Figure size 432x288 with 1 Axes>"
      ]
     },
     "metadata": {
      "needs_background": "light"
     },
     "output_type": "display_data"
    }
   ],
   "source": [
    "plt.hist(simulations)\n",
    "plt.show()"
   ]
  },
  {
   "cell_type": "markdown",
   "metadata": {},
   "source": [
    "12. Donner un intervalle de confiance à 95% de la longueur du câble par 2 méthodes différentes. Commenter."
   ]
  },
  {
   "cell_type": "code",
   "execution_count": 31,
   "metadata": {},
   "outputs": [
    {
     "name": "stdout",
     "output_type": "stream",
     "text": [
      "Intervalle de confiance expérimental : 518.1214489479015 , 528.0854818920321\n"
     ]
    }
   ],
   "source": [
    "# Intervalle de confiance expérimental : on prend les centiles\n",
    "# (par exemple, les 3ème valeurs en partant de la fin et du début, cela fait même 96% mais on n'est pas à ça près en termes de précision vu que ça reste expérimental)\n",
    "\n",
    "simulations.sort()\n",
    "print(\"Intervalle de confiance expérimental :\", simulations[2],\",\",simulations[-3])\n",
    "\n",
    "# Autre méthode : ???"
   ]
  },
  {
   "cell_type": "markdown",
   "metadata": {},
   "source": [
    "13. Donner une estimation de la probabilité que la longueur du câble dépasse 525 m."
   ]
  },
  {
   "cell_type": "code",
   "execution_count": 32,
   "metadata": {},
   "outputs": [
    {
     "name": "stdout",
     "output_type": "stream",
     "text": [
      "Estimation de la probabilité (en %) de dépasser les 525 m :  23\n"
     ]
    }
   ],
   "source": [
    "# On regarde quelle proportion des simulations a dépassé les 525 m\n",
    "\n",
    "i = 0\n",
    "while i<100 :\n",
    "    if simulations[i]>525 : break\n",
    "    i+=1\n",
    "\n",
    "print(\"Estimation de la probabilité (en %) de dépasser les 525 m : \", 100-i)"
   ]
  },
  {
   "cell_type": "markdown",
   "metadata": {},
   "source": [
    "14. Reprendre les questions précédentes avec 1000, 10000 puis 100000 simulations. Commenter."
   ]
  },
  {
   "cell_type": "code",
   "execution_count": 33,
   "metadata": {},
   "outputs": [
    {
     "name": "stdout",
     "output_type": "stream",
     "text": [
      "Espérance conditionnelle simulée : 523.7980353893785\n",
      "Intervalle de confiance expérimental : 518.2871260244342 , 530.3620699350931\n",
      "Estimation de la probabilité de dépasser les 525 m :  0.38\n"
     ]
    },
    {
     "data": {
      "image/png": "[encoded data removed]",
      "text/plain": [
       "<Figure size 432x288 with 2 Axes>"
      ]
     },
     "metadata": {
      "needs_background": "light"
     },
     "output_type": "display_data"
    }
   ],
   "source": [
    "def grande_simulation(q=100) :\n",
    "    simulations = [simulation_L() for i in range(q)]\n",
    "\n",
    "    print(\"Espérance conditionnelle simulée :\", np.mean(simulations))\n",
    "    M = []\n",
    "    S = 0\n",
    "    for i in range(q) :\n",
    "        S+=simulations[i]\n",
    "        M.append(S/(i+1))\n",
    "        \n",
    "    fig, axes = plt.subplots(2, 1)\n",
    "\n",
    "    axes[0].scatter(np.arange(q),M)\n",
    "    axes[1].hist(simulations)\n",
    "    \n",
    "    simulations.sort()\n",
    "    print(\"Intervalle de confiance expérimental :\", simulations[round(0.025*q)],\",\",simulations[-1-round(0.025*q)])\n",
    "    \n",
    "\n",
    "    i = q-1\n",
    "    while i>=0 :\n",
    "        if simulations[i]<525 : break\n",
    "        i-=1\n",
    "\n",
    "    print(\"Estimation de la probabilité de dépasser les 525 m : \", (q-i-1)/q)\n",
    "    plt.show()\n",
    "    \n",
    "    \n",
    "grande_simulation(100)"
   ]
  },
  {
   "cell_type": "code",
   "execution_count": 34,
   "metadata": {},
   "outputs": [
    {
     "name": "stdout",
     "output_type": "stream",
     "text": [
      "Espérance conditionnelle simulée : 523.0650301875329\n",
      "Intervalle de confiance expérimental : 517.7781430500551 , 529.0410224525675\n",
      "Estimation de la probabilité de dépasser les 525 m :  0.258\n"
     ]
    },
    {
     "data": {
      "image/png": "[encoded data removed]",
      "text/plain": [
       "<Figure size 432x288 with 2 Axes>"
      ]
     },
     "metadata": {
      "needs_background": "light"
     },
     "output_type": "display_data"
    }
   ],
   "source": [
    "grande_simulation(1000)"
   ]
  },
  {
   "cell_type": "code",
   "execution_count": 35,
   "metadata": {},
   "outputs": [
    {
     "name": "stdout",
     "output_type": "stream",
     "text": [
      "Espérance conditionnelle simulée : 523.1357153445997\n",
      "Intervalle de confiance expérimental : 517.5658796374356 , 529.4458582117179\n",
      "Estimation de la probabilité de dépasser les 525 m :  0.2568\n"
     ]
    },
    {
     "data": {
      "image/png": "[encoded data removed]",
      "text/plain": [
       "<Figure size 432x288 with 2 Axes>"
      ]
     },
     "metadata": {
      "needs_background": "light"
     },
     "output_type": "display_data"
    }
   ],
   "source": [
    "grande_simulation(10000)"
   ]
  }
 ],
 "metadata": {
  "@webio": {
   "lastCommId": "5ceb69a5bbd14071b254c2439a58ac4b",
   "lastKernelId": "0e923419-c540-42c1-ab5f-d0e05ff4521c"
  },
  "kernelspec": {
   "display_name": "Python 3",
   "language": "python",
   "name": "python3"
  },
  "language_info": {
   "codemirror_mode": {
    "name": "ipython",
    "version": 3
   },
   "file_extension": ".py",
   "mimetype": "text/x-python",
   "name": "python",
   "nbconvert_exporter": "python",
   "pygments_lexer": "ipython3",
   "version": "3.7.3"
  }
 },
 "nbformat": 4,
 "nbformat_minor": 2
}
