{
 "cells": [
  {
   "cell_type": "markdown",
   "metadata": {},
   "source": [
    "# Projet numérique : lignes de niveau\n",
    "\n",
    "Auteurs : Quentin GUITET, Aymeric PLESSIER\n",
    "\n",
    "Date de dernière modification : vendredi 1 novembre 2019"
   ]
  },
  {
   "cell_type": "markdown",
   "metadata": {},
   "source": [
    "Notre travail a pour but final d'être capable d'afficher les lignes de niveau d'une fonction réelle f de deux variables réelles, supposée continûement différentiable."
   ]
  },
  {
   "cell_type": "code",
   "execution_count": 2,
   "metadata": {},
   "outputs": [],
   "source": [
    "#prerequis : importer matplotlib.pyplot\n",
    "import matplotlib.pyplot as plt\n",
    "import numpy as np"
   ]
  },
  {
   "cell_type": "markdown",
   "metadata": {},
   "source": [
    "# Méthode de la dichotomie"
   ]
  },
  {
   "cell_type": "markdown",
   "metadata": {},
   "source": [
    "Si $f$ est continue (c'est a fortiori le cas si f est continuement différentiable), alors la composition de f et de tout arc paramétré est continue.\n",
    "En particulier, définissons l'arc paramétré $\\gamma: t\\in[0,1] \\mapsto (0,t)\\in\\mathbb{R}²$.\n",
    "La fonction $g=f\\circ g$ est continue.\n",
    "\n",
    "Soit $c$ un réel. En supposant que $f(0,0)-c$ et $f(0,1)-c$ sont de signes opposés, par le théorème des valeurs intermédiaires appliqué à g, il existe alors $t\\in [0,1]$ tel que $f(0,t)=c$.\n",
    "\n",
    "Cela prouve théoriquement l'existence d'un tel c. On se propose de coder ici une fonction $find\\_seed$ qui utilise une méthode de dichotomie pour approcher ce réel, à partir d'une fonction telle que $g$."
   ]
  },
  {
   "cell_type": "code",
   "execution_count": 3,
   "metadata": {},
   "outputs": [],
   "source": [
    "def find_seed(g, a=0, b=1, c=0, eps=2**-26) :\n",
    "    \"\"\"Approche par dichotomie un antécedent a c par la fonction continue g,\n",
    "    en démarrant la dichotomie aux points a et b. S'arrête a une précision eps (longueur de l'intervalle de fluctuation).\n",
    "    Leve une exception si la condition de base de la dichotomie n'est pas respectee.\"\"\"\n",
    "    \n",
    "    if b<a : a,b = b,a\n",
    "        \n",
    "    if g(a)>g(b) :\n",
    "        h = lambda x : c-g(x)\n",
    "    else :\n",
    "        h = lambda x : g(x)-c\n",
    "    #on se ramène à une fonction \"presque croissante\" à annuler\n",
    "\n",
    "    assert h(a)*h(b)<=0\n",
    "    \n",
    "    for i in range(20) : #si au bout de 20 tours on n'est toujours pas sous eps, on arrête quand même\n",
    "        m = (b+a)/2\n",
    "        if h(m)<0 : a = m\n",
    "        else : b = m\n",
    "        if b-a<eps : break\n",
    "    \n",
    "    return (b+a)/2"
   ]
  },
  {
   "cell_type": "markdown",
   "metadata": {},
   "source": [
    "Remarque : on a pris quelques libertés par rapport au sujet, en rajoutant des paramétres a et b afin d'avoir une fonction plus génerale"
   ]
  },
  {
   "cell_type": "markdown",
   "metadata": {},
   "source": [
    "Dès lors, on peut imaginer une méthode de tracé de contour n'utilisant pas l'hypothèse de fonction continûement différentiable : on trace pas à pas en utilisant la dichotomie, en utilisant comme arc paramétré non pas un segment mais un demi-cercle de rayon delta. Ainsi, à chaque étape, on trouve un nouveau point de la ligne de niveau.\n",
    "Cela demande toutefois de connaître la direction du segment de contour précédemment tracé pour ne pas revenir sur nos pas. Pour cela, on se donne à chaque étape un angle theta_0 et on cherche sur le demi-cercle \"dans le sens de cet angle\". Pour initialiser la ligne de niveau, on commence sur le bord gauche (avec une dichotomie classique), on a donc un theta_0 = 0. Ensuite, c'est l'angle du précédent pas tracé qui est utilisé.\n",
    "La fonction $pas$ réalise chaque pas en utilisant la fonction de dichotomie $find\\_seed$, et la fonction $simple\\_contour$ correspond à celle demandée par l'énoncé (on a rajouté un paramètre facultatif ad-hoc $ext$ pour le fonctionnement de l'algorithme, ainsi qu'une fonction $extension$ par commodité, voir description des fonctions)."
   ]
  },
  {
   "cell_type": "code",
   "execution_count": 4,
   "metadata": {},
   "outputs": [],
   "source": [
    "def extension(f,x0=0,y0=0,x1=1,y1=1) :\n",
    "    \"\"\"Etend une fonction f au-delà de son domaine de définition initial.\"\"\"\n",
    "    def h(x,y) :\n",
    "        if x<x0 :\n",
    "            if y<y0 : return f(x0,y0)\n",
    "            elif y>y1 : return f(x0,y1)\n",
    "            else : return f(x0,y)\n",
    "        elif x>x1 :\n",
    "            if y<y0 : return f(x1,y0)\n",
    "            elif y>y1 : return f(x1,y1)\n",
    "            else : return f(x1,y)\n",
    "        else :\n",
    "            if y<y0 : return f(x,y0)\n",
    "            elif y>y1 : return f(x,y1)\n",
    "            else : return f(x,y)\n",
    "    return h\n",
    "\n",
    "def pas(f, c=0.0, delta=0.05, mvmt=0,x0=0,y0=0) :\n",
    "    \"\"\"Réalise un pas par dichotomie\n",
    "    mvmt : dernier mouvement réalisé (retour de cette même fonction)\n",
    "              OU BIEN theta_0 directement si départ (dans ce cas préciser le point de depart avec x0 et y0)\n",
    "    f doit être définie un peu en dehors de [0,1]x[0,1]\n",
    "    Sortie : nouveau point sous la forme (x,y)\"\"\"\n",
    "    \n",
    "    if isinstance(mvmt,int) or isinstance(mvmt, float) :\n",
    "        theta_0 = mvmt\n",
    "    else :\n",
    "        deltax = mvmt[0][1]-mvmt[0][0]\n",
    "        deltay = mvmt[1][1]-mvmt[1][0]\n",
    "        x0 = mvmt[0][1]\n",
    "        y0 = mvmt[1][1]\n",
    "        theta_0 = np.arccos(deltax/delta)*(1-2*(deltay<0)) #permet de trouver l'angle du vecteur mvmt, sachant que sqrt(x²+y²)=~delta (1-2*etc)=le signe de deltay\n",
    "        \n",
    "    def gamma(theta) :\n",
    "        thet=theta+theta_0\n",
    "        return (x0+delta*np.cos(thet), y0+delta*np.sin(thet))\n",
    "    \n",
    "    g = lambda theta : f(*gamma(theta))\n",
    "    \n",
    "    try :\n",
    "        theta = find_seed(g, -np.pi/2, np.pi/2, c)\n",
    "    except : #si la dichotomie échoue\n",
    "        raise Exception(\"Arrêt de la ligne de niveau ou problème de seuils\")\n",
    "    \n",
    "    thet = theta+theta_0\n",
    "    \n",
    "    return (x0+delta*np.cos(thet), y0+delta*np.sin(thet))\n",
    "\n",
    "\n",
    "def simple_contour(f,c=0,delta=0.05,depart=\"gauche\",ext = True) :\n",
    "    \"\"\"Trace une ligne de niveau entiére à partir d'un antécedent de c sur le côté gauche du carré de côté 1\n",
    "    renvoie deux listes de coordonnées (les x et les y).\n",
    "    Ne marche pas si la dichotomie de départ est impossible.\n",
    "    départ est le bord sur lequel est faite la dichotomie\n",
    "    Si f n'est pas définie en dehors de [0,1],\n",
    "    elle est étendue légerement autour afin de simplifier le fonctionnement de l'algorithme\n",
    "    (les dichotomies peuvent dépasser des bords, cela évite d'avoir à gérer ces cas).\n",
    "    Pour désactiver cette extension automatique (dans le cas ou f est bien definie sur RxR), on peut initialiser\n",
    "    le paramétre ext à False (True par défaut, pour éviter les bugs)\"\"\"\n",
    "\n",
    "    if ext : h = extension(f)\n",
    "    else : h = f\n",
    "\n",
    "    if depart==\"gauche\" :\n",
    "        theta0=0\n",
    "        g = lambda y : f(0,y)\n",
    "        x0 = 0\n",
    "        try : y0 = find_seed(g,c=c)\n",
    "        except Exception as Exc:\n",
    "            return [],[]\n",
    "    elif depart==\"droite\" :\n",
    "        theta0=np.pi\n",
    "        g = lambda y : f(1,y)\n",
    "        x0 = 1\n",
    "        try : y0 = find_seed(g,c=c)\n",
    "        except Exception as Exc:\n",
    "            return [],[]\n",
    "    elif depart==\"bas\" :\n",
    "        theta0=np.pi/2\n",
    "        g = lambda x : f(x,0)\n",
    "        y0=0\n",
    "        try : x0 = find_seed(g,c=c)\n",
    "        except Exception as Exc:\n",
    "            return [],[]\n",
    "    elif depart==\"haut\" :\n",
    "        theta0 = -np.pi/2\n",
    "        y0=1\n",
    "        g = lambda x : f(x,1)\n",
    "        try : x0 = find_seed(g,c=c)\n",
    "        except Exception as Exc :\n",
    "            return [],[]\n",
    "    else : raise ValueError(\"départ doit être haut, bas, droite ou gauche\")\n",
    "\n",
    "    try :\n",
    "        x1,y1 = pas(h,c,delta=delta,mvmt=theta0,x0=x0,y0=y0)\n",
    "    except Exception as Exc:\n",
    "        return [],[]\n",
    "    \n",
    "\n",
    "    X = [x0,x1]\n",
    "    Y = [y0,y1]\n",
    "    \n",
    "    while 0<=x1<=1 and 0<=y1<=1 :\n",
    "        try :\n",
    "            x1,y1 = pas(h,c,delta=delta,mvmt=([X[-2],X[-1]],[Y[-2],Y[-1]]))\n",
    "            X.append(x1)\n",
    "            Y.append(y1)\n",
    "        except Exception as exc:\n",
    "            break\n",
    "            \n",
    "    return X, Y\n"
   ]
  },
  {
   "cell_type": "code",
   "execution_count": 5,
   "metadata": {},
   "outputs": [
    {
     "data": {
      "image/png": "[encoded data removed]",
      "text/plain": [
       "<Figure size 432x288 with 1 Axes>"
      ]
     },
     "metadata": {
      "needs_background": "light"
     },
     "output_type": "display_data"
    }
   ],
   "source": [
    "#résultat\n",
    "\n",
    "def f(x,y) :\n",
    "    return x*x+y*y\n",
    "\n",
    "plt.axis([0, 1, 0, 1])\n",
    "X, Y = simple_contour(f,c=0.5)\n",
    "\n",
    "plt.plot(X,Y)\n",
    "\n",
    "plt.show()"
   ]
  },
  {
   "cell_type": "markdown",
   "metadata": {},
   "source": [
    "Conclusion :\n",
    " - La méthode marche efficacement, on peut même prendre un pas $delta$ relativement grand et obtenir des résultats très satisfaisants en règle générale (ce qui rend la méthode efficace).\n",
    " - Pour qu'elle marche, il faut cependant que la fonction (éventuellement corrigée de la valeur c) soit positive à une extrêmité du demi-cercle et négative à l'autre. Il faut aussi que la ligne de niveau ne change pas trop \"brutalement\" de direction par rapport au pas delta. En général, ces deux contraintes se résolvent en prenant $delta$ assez petit. Toutefois, concernant le premier problème, cela exclue les lignes de niveau extrêmes (par exemple, la méthode ne fonctionne pas sur $f: (x,y)\\in\\mathbb{R}² \\mapsto x²\\in\\mathbb{R}$ pour la ligne de niveau associée à la valeur 0), qui représentent la plupart des cas pathologiques pour beaucoup de méthodes envisagées par ailleurs.\n",
    " - La gestion des lignes de niveau \"en 8\" (comme on peut en trouver près des points-cols) est assez aléatoire\n",
    " - En notant $l$ la longueur de la ligne de niveau, $eps$ la précision utilisée pour la dichotomie, $delta$ la distance entre deux points successifs, en ne comptant que les appels de la fonction, la complexité grosso-modo proportionnelle à $log(eps)*l/delta$"
   ]
  },
  {
   "cell_type": "markdown",
   "metadata": {},
   "source": [
    "Remarque : nous avions aussi pensé, pour chaque pas, à calculer le gradient en le point, et à avancer perpendiculairement d'un segment de longeur $delta$. Toutefois, cette méthode à plusieurs défauts majeurs par rapport à la précédente :\n",
    " - Cela suppose une fonction différentiable (alors qu'une fonction continue suffit pour la première méthode).\n",
    " - Si le gradient est nul, la méthode ne marche pas. On exclue dès lors les fonctions du type $f: (x,y)\\in\\mathbb{R}² \\mapsto x^3\\in\\mathbb{R}$, pour la ligne de niveau 0 : on a bien un gradient nul en ces points. Toutefois, cela n'empêche pas le premier algorithme de fonctionner.\n",
    " - On risque d'avoir une déviation progressive à chaque pas par rapport à la ligne de niveau. Ce dernier problème pourrait être résolu en faisant à nouveau une dichotomie sur un petit segment autour du point d'arrivée, mais on a alors les défauts de la première méthode ; ceci n'aurait donc pas d'intérêt."
   ]
  },
  {
   "cell_type": "markdown",
   "metadata": {},
   "source": [
    "Maintenant, il s'agît d'utiliser cette \"brique de base\" pour afficher les lignes de niveau sur n'importe quel pavé à l'aide d'un quadrillage.\n",
    "La méthode est la suivante : on prend notre fonction f (qu'on étend éventuellement en dehors de l'intervalle par commodité, si besoin), et on se donne un quadrillage sous la forme demandée par le sujet (xc et yc). Ensuite, pour chaque petit carré, exécute $simple\\_contour$ en tentant de partir des 4 bords du carré. Si aucune graine n'est trouvée, il on passe au carré suivant. Si une graine est trouvée, on trace le fragment de ligne de niveau à partir de la graine et on arrête de chercher d'éventuelles autres graines sur les autres bords (pour éviter de tracer les lignes de niveau en double ; on suppose alors que l'utilisateur a mis un quadrillage assez fin pour éviter d'avoir plusieurs lignes de niveau passant dans le même carré).\n",
    "Remarques :\n",
    " - Pour avoir de la modularité (et ainsi d'utiliser la même fonction contour quelle que soit la fonction $contour\\_simple$), des calculs assez lourds sont nécessaires. Des adaptations mineures sur la fonction $contour\\_simple$ pourraient être faites. Il au contraire possible d'être encore plus modulaire, et de n'avoir une fonction $contour\\_simple$ qui commence qu'à partir du bord gauche (comme demandé dans l'énoncé), en reprenant une nouvelle fonction (voir ci dessous) du type $h = lambda x,y : f(xc[i]+x*deltax, yc[j]+y*deltay)$ pour chaque bord à tester en permutant éventuellement x et y, et en remplaçant éventuellement $x$ et $y$ par $(1-x)$ et $(1-y)$.\n",
    " - Etant donné la méthode employée, il est possible qu'il y ait quelques chevauchements des lignes sur les carrés.\n",
    " - Afin de pouvoir *plotter* proprement les points, et d'éviter les raccords malencontreux, contrairement à ce qui était demandé dans l'énoncé, nous renvoyons non pas une unique liste de coordonnées X et une unique liste de coordonnées Y, mais deux listes de listes de points à relier entre deux."
   ]
  },
  {
   "cell_type": "code",
   "execution_count": 6,
   "metadata": {},
   "outputs": [],
   "source": [
    "def contour(f, c=0.0, xc=[0.0,1.0], yc=[0.0,1.0], delta=0.05, ext = True) :\n",
    "    \"\"\"Renvoie les coordonnées d'une ligne de niveau pour une fonction f,\n",
    "    l'algorithme utilise la fonction \"contour_simple\" sur chaque petit rectangle donné.\n",
    "    Renvoie des listes de listes des coordonnées X et Y des points à plotter\n",
    "    (pour éviter les raccords malencontreux)\"\"\"\n",
    "\n",
    "    if ext :\n",
    "        f = extension(f, x0=xc[0], y0=yc[0], x1=xc[-1], y1=yc[-1])\n",
    "\n",
    "    n = len(xc)-1\n",
    "    m = len(yc)-1\n",
    "\n",
    "    mat = np.ones((n,m,2))*np.nan\n",
    "\n",
    "    X = [] # attention, X contient plusieurs listes de points, utile s'il y a plusieurs lignes de niveau\n",
    "    Y = [] # idem (pour plotter correctement)\n",
    "\n",
    "    for i in range(len(xc)-1) : #on parcourt tous les carrés, jusqu'à trouver un point d'entrée\n",
    "        for j in range(len(yc)-1) : #on se contente d'un point par carré pour éviter les problèmes, on considère que les autres cas necessiteraient des carrés plus petits\n",
    "            deltax = xc[i+1]-xc[i]\n",
    "            deltay = yc[j+1]-yc[j]\n",
    "\n",
    "            #on va successivement tenter les différents bords, en adaptant la fonction f pour réutiliser la fonction simple_contour\n",
    "            #(il y aurait probablement une méthode un peu plus optimisée mais moins pratique et modulaire)\n",
    "\n",
    "            h = lambda x,y : f(xc[i]+x*deltax, yc[j]+y*deltay)\n",
    "            XX, YY = simple_contour(h,c,delta=delta,depart=\"gauche\",ext=False)\n",
    "            if XX!=[] :\n",
    "                X.append([xc[i]+x*deltax for x in XX])\n",
    "                Y.append([yc[j]+y*deltay for y in YY])\n",
    "                continue\n",
    "            XX,YY = simple_contour(h,c,delta=delta,depart=\"bas\",ext=False)\n",
    "            if XX!=[] :\n",
    "                X.append([xc[i]+x*deltax for x in XX])\n",
    "                Y.append([yc[j]+y*deltay for y in YY])\n",
    "                continue\n",
    "            XX, YY = simple_contour(h,c,delta=delta,depart=\"haut\",ext=False)\n",
    "            if XX!=[] :\n",
    "                X.append([xc[i]+x*deltax for x in XX])\n",
    "                Y.append([yc[j]+y*deltay for y in YY])\n",
    "                continue\n",
    "            XX,YY = simple_contour(h,c,delta=delta,depart=\"droite\",ext=False)\n",
    "            if XX!=[] :\n",
    "                X.append([xc[i]+x*deltax for x in XX])\n",
    "                Y.append([yc[j]+y*deltay for y in YY])\n",
    "                continue\n",
    "    return X,Y"
   ]
  },
  {
   "cell_type": "code",
   "execution_count": 7,
   "metadata": {},
   "outputs": [
    {
     "data": {
      "image/png": "[encoded data removed]",
      "text/plain": [
       "<Figure size 432x288 with 1 Axes>"
      ]
     },
     "metadata": {
      "needs_background": "light"
     },
     "output_type": "display_data"
    }
   ],
   "source": [
    "def f(x,y) :\n",
    "    return 2*(np.exp(-x*x-y*y)-np.exp(-(x-1)**2-(y-1)**2))\n",
    "\n",
    "plt.axis([-2, 2, -2, 2])\n",
    "X, Y = contour(f,c=0.5,xc=[-2,-1,0,1,-2], yc=[-2,-1,0,1,2],ext=False)\n",
    "\n",
    "for XX, YY in zip(X,Y) :\n",
    "    plt.plot(XX,YY,color=\"blue\")\n",
    "\n",
    "plt.show()"
   ]
  },
  {
   "cell_type": "markdown",
   "metadata": {},
   "source": [
    "# Méthode du gradient"
   ]
  },
  {
   "cell_type": "markdown",
   "metadata": {},
   "source": [
    "### Principe"
   ]
  },
  {
   "cell_type": "markdown",
   "metadata": {},
   "source": [
    "On sait que le vecteur gradient $\\overrightarrow{\\nabla f}$ est perpendiculaire à tout point de la ligne de niveau, on détermine donc simplement le vecteur perpendiculaire $\\overrightarrow{U}$ au gradient allant dans le sens qui convient et de norme $\\delta$\n",
    "\n",
    "On a donc le schéma itératif suivant :\n",
    "$$\n",
    "\\left \\{\n",
    "\\begin{array}{r r}\n",
    "      x_{k+1}  & = & x_k + U_{x_k} \\\\\n",
    "      y_{k+1}  & = & y_k + U_{y_k}\n",
    "\\end{array}\n",
    "\\right  .\n",
    "$$\n",
    "Avec les quantités suivantes $$\\overrightarrow{\\nabla f}(x_k,y_k) = \\begin{pmatrix} G_{x_k} \\\\ G_{y_k}\\end{pmatrix}$$\n",
    "$$\\overrightarrow{V} = \\begin{pmatrix} G_{y_k} \\\\ -G_{x_k}\\end{pmatrix}$$  $$\\overrightarrow{U} = \\delta \\frac{\\overrightarrow{V}}{||\\overrightarrow{V}||}$$"
   ]
  },
  {
   "cell_type": "markdown",
   "metadata": {},
   "source": [
    "### Programme"
   ]
  },
  {
   "cell_type": "code",
   "execution_count": 19,
   "metadata": {},
   "outputs": [],
   "source": [
    "import matplotlib.pyplot as plt\n",
    "import autograd\n",
    "import math\n",
    "from autograd import numpy as np"
   ]
  },
  {
   "cell_type": "code",
   "execution_count": 20,
   "metadata": {
    "scrolled": true
   },
   "outputs": [],
   "source": [
    "### Définition de la fonction f\n",
    "\n",
    "def f(x, y):\n",
    "    \"\"\"Définit la fonction dont on veut déterminer les lignes de niveaux\"\"\"\n",
    "    return x**5 + y**2 + np.sin(x*y)\n",
    "\n",
    "### Calcul de la fonction gradient à partir de autograd\n",
    "\n",
    "def gradient(f):\n",
    "    \"\"\"Renvoie les dérivées partielles de f fonction de deux variables\"\"\"\n",
    "    g = autograd.grad\n",
    "    return g(f, 0), g(f, 1)\n",
    "\n",
    "### Recherche de l'amorce\n",
    "\n",
    "def find_seed(g, a=0, b=1, c=0, eps=2**-26) :\n",
    "    \"\"\"Approche par dichotomie un antécedent a c par la fonction continue g,\n",
    "    en démarrant la dichotomie aux points a et b. S'arrête à une précision eps (longueur de l'intervalle de fluctuation).\n",
    "    Lève une exception si la condition de base de la dichotomie n'est pas respectée.\"\"\"\n",
    "    \n",
    "    if b<a : a,b = b,a\n",
    "        \n",
    "    if g(a)>g(b) :\n",
    "        h = lambda x : c-g(x)\n",
    "    else :\n",
    "        h = lambda x : g(x)-c\n",
    "    #on se ramene à une fonction \"presque croissante\" à annuler\n",
    "\n",
    "    assert h(a)*h(b)<=0\n",
    "    \n",
    "    for i in range(20) : #si au bout de 20 tours on n'est toujours pas sous eps, on arrête quand même\n",
    "        m = (b+a)/2\n",
    "        if h(m)<0 : a = m\n",
    "        else : b = m\n",
    "        if b-a<eps : break\n",
    "    \n",
    "    return (b+a)/2\n",
    "\n",
    "### On détermine la ligne de niveau \n",
    "\n",
    "def contour_avec_gradient(f, c=0, delta=0.01, depart='gauche'):\n",
    "    \n",
    "    \"\"\"Renvoie le tableau des abscisses et des ordonnées de la ligne de niveau de la fonction f\n",
    "    correspondant à la valeur c par la méthode du gradient\"\"\"\n",
    "    \n",
    "    if depart==\"gauche\" :\n",
    "        g = lambda y : f(0,y)\n",
    "        x0 = 0\n",
    "        try : y0 = find_seed(g,c=c)\n",
    "        except Exception as Exc:\n",
    "            return [],[]\n",
    "    elif depart==\"droite\" :\n",
    "        g = lambda y : f(1,y)\n",
    "        x0 = 1\n",
    "        try : y0 = find_seed(g,c=c)\n",
    "        except Exception as Exc:\n",
    "            return [],[]\n",
    "    elif depart==\"bas\" :\n",
    "        g = lambda x : f(x,0)\n",
    "        y0=0\n",
    "        try : x0 = find_seed(g,c=c)\n",
    "        except Exception as Exc:\n",
    "            return [],[]\n",
    "    elif depart==\"haut\" :\n",
    "        y0=1\n",
    "        g = lambda x : f(x,1)\n",
    "        try : x0 = find_seed(g,c=c)\n",
    "        except Exception as Exc :\n",
    "            return [],[]\n",
    "    else : raise ValueError(\"depart doit etre haut, bas, droite ou gauche\")\n",
    "    \n",
    "    v = np.array([gradient(f)[1](float(x0), float(y0)), -gradient(f)[0](float(x0), float(y0))])\n",
    "    u = v/(math.sqrt(v[0]**2 + v[1]**2))\n",
    "    \n",
    "    x1 = x0 + delta*u[0]\n",
    "    y1 = y0 + delta*u[1]\n",
    "    \n",
    "    X = []\n",
    "    Y = []\n",
    "    while x1 >= 0 and x1 <= 1 and y1 >= 0 and y1 <= 1 :   # le fragment est interrompu à la sortie du cadre\n",
    "        \n",
    "        v = np.array([gradient(f)[1](float(x1), float(y1)), -gradient(f)[0](float(x1), float(y1))])\n",
    "        u = v/(math.sqrt(v[0]**2 + v[1]**2))\n",
    "        \n",
    "        x1 = x1 + delta*u[0]\n",
    "        y1 = y1 + delta*u[1]\n",
    "        \n",
    "        X.append(x1)\n",
    "        Y.append(y1)\n",
    "        \n",
    "        if u[0] == 0 and u[1] == 0 : # on interrompt la ligne si le gradient s'annule\n",
    "            break\n",
    "        \n",
    "    return np.array(X), np.array(Y)\n"
   ]
  },
  {
   "cell_type": "code",
   "execution_count": 21,
   "metadata": {},
   "outputs": [
    {
     "data": {
      "image/png": "[encoded data removed]",
      "text/plain": [
       "<Figure size 432x288 with 1 Axes>"
      ]
     },
     "metadata": {
      "needs_background": "light"
     },
     "output_type": "display_data"
    }
   ],
   "source": [
    "C0 = contour_avec_gradient(f, 0.2)\n",
    "C1 = contour_avec_gradient(f, 0.5)\n",
    "C2 = contour_avec_gradient(f, 0.8)\n",
    "C3 = contour_avec_gradient(f, 1)\n",
    "plt.plot(C0[0], C0[1], color='r')\n",
    "plt.plot(C1[0], C1[1], color='y')\n",
    "plt.plot(C2[0], C2[1], color='g')\n",
    "plt.plot(C3[0], C3[1], color='b')\n",
    "plt.axis([0, 1, 0, 1])\n",
    "plt.show()"
   ]
  },
  {
   "cell_type": "markdown",
   "metadata": {},
   "source": [
    "### Critique"
   ]
  },
  {
   "cell_type": "markdown",
   "metadata": {},
   "source": [
    "$\\rightarrow$ Cette méthode est très approximative car elle se contente d'une valeur pour le point suivant sans vérifier qu'il s'agit effectivement d'un point fixe. L'erreur effectuée à chaque itération n'est donc pas corrigée et se propage car sert de base à la prochaine itération.\n",
    "\n",
    "$\\rightarrow$ On remarque aussi que la ligne s'interrompt nécessairement sur un point critique (gradient nul), et il est impossible de continuer la ligne à moins de la compléter en partant d'une autre direction pour rejoindre le fragment interrompu."
   ]
  },
  {
   "cell_type": "markdown",
   "metadata": {},
   "source": [
    "# Méthode de la Jacobienne, ou Newton en dimension deux"
   ]
  },
  {
   "cell_type": "markdown",
   "metadata": {},
   "source": [
    "### Principe"
   ]
  },
  {
   "cell_type": "markdown",
   "metadata": {},
   "source": [
    "L'objectif reste le même, c'est-à-dire de trouver les couples $(x,y)$ tels que : \n",
    "$$f(x,y) - c =0$$\n",
    "\n",
    "mais l'idée est de traduire une deuxième condition qui pèse sur cette résolution, soit de trouver des points distants de $\\delta$ les uns des autres : si $(a, b)$ est le point de l'itération précédente, alors on cherche $(x,y)$ tels que :\n",
    "\n",
    "$$(x-a)^2+(y-b)^2-\\delta^2 = 0$$\n",
    "\n",
    "Satisfaire ces deux conditions revient donc à chercher les zéros de la fonction $g$ allant de $\\mathbb{R}^2$ dans $\\mathbb{R}^2$ définie par :\n",
    "\n",
    "$$g(x,y)=(f(x,y)-c, (x-a)^2+(y-b)^2-\\delta^2 )=(g_1 (x,y),g_2(x,y))$$\n",
    "\n",
    "On utilise pour cela la méthode de Newton dans le cadre de fonctions de deux variables à valeurs vectorielles, on fait donc intervenir les dérivées partielles pour l'approximation au premier ordre de la recherche de solution. Le processus itératif de la recherche du point $(x_{k+1},y_{k+1})$ comme meilleure approximation de la solution $(x,y)$ à partir du point $(x_{k},y_{k})$ s'écrit :\n",
    "\n",
    "$$\\begin{pmatrix} x_{k+1} \\\\ y_{k+1}\\end{pmatrix} = \\begin{pmatrix} x_{k} \\\\ y_{k}\\end{pmatrix} - J(x_{k},y_{k})^{-1} \\begin{pmatrix} g_1(x_{k},y_{k}) \\\\ g_2(x_{k},y_{k})\\end{pmatrix}$$\n",
    "\n",
    "Avec $J(x,y)$ la matrice jacobienne de $g$ évaluée en $(x,y)$, soit :\n",
    "$$J(x,y) = \\begin{pmatrix} \\frac{\\partial g_1}{\\partial x}(x,y) & \\frac{\\partial g_1}{\\partial y}(x,y) \\\\ \\frac{\\partial g_2}{\\partial x}(x,y) & \\frac{\\partial g_2}{\\partial y}(x,y) \\end{pmatrix}$$\n",
    "\n",
    "La calcul de la jacobienne donne la forme suivante qui sera utilisée dans le programme :\n",
    "$$J(x,y) = \\begin{pmatrix} \\frac{\\partial f}{\\partial x}(x,y) & \\frac{\\partial f}{\\partial y}(x,y) \\\\ 2x & 2y \\end{pmatrix}$$"
   ]
  },
  {
   "cell_type": "markdown",
   "metadata": {},
   "source": [
    "### Programmation"
   ]
  },
  {
   "cell_type": "markdown",
   "metadata": {},
   "source": [
    "$\\rightarrow$ On se place sur le bord du cadre pour initialiser la recherche et trouver une amorce $(a,b)$\n",
    "\n",
    "$\\rightarrow$ On calcule le gradient de la fonction en ce point $\\overrightarrow{\\nabla f}(a,b) = \\begin{pmatrix} G_x \\\\ G_y\\end{pmatrix}$\n",
    "\n",
    "$\\rightarrow$ On cherche un vecteur orthogonal au gradient en ce point, par exemple $\\overrightarrow{V} = \\begin{pmatrix} G_y \\\\ -G_x\\end{pmatrix}$\n",
    "\n",
    "$\\rightarrow$ On normalise ce vecteur et on se déplace d'un vecteur $\\overrightarrow{U}$ de norme $\\delta$ tel que $\\overrightarrow{U} = \\delta \\frac{\\overrightarrow{V}}{||\\overrightarrow{V}||}$ d'où les coordonnées $(x_0,y_0)$ du point suivant :\n",
    "$$\n",
    "\\left \\{\n",
    "\\begin{array}{r r}\n",
    "      x_0  & = & a + U_x \\\\\n",
    "      y_0  & = & b + U_y\n",
    "\\end{array}\n",
    "\\right  .\n",
    "$$\n",
    "\n",
    "$\\rightarrow$ On démarre ensuite le processus itératif décrit dans le principe que l'on fait converger vers le prochain point de la ligne de niveau avec pour première valeur $(x_0,y_0)$:\n",
    "$$\\begin{pmatrix} x_{k+1} \\\\ y_{k+1}\\end{pmatrix} = \\begin{pmatrix} x_{k} \\\\ y_{k}\\end{pmatrix} - J(x_{k},y_{k})^{-1} \\begin{pmatrix} g_1(x_{k},y_{k}) \\\\ g_2(x_{k},y_{k})\\end{pmatrix}$$\n",
    "\n",
    "$\\rightarrow$ Une fois satisfait de la solution obtenue, on stocke le point trouvé et ce dernier donne sa valeur à $(a,b)$ pour réitérer le procédé selon la première étape\n",
    "\n"
   ]
  },
  {
   "cell_type": "markdown",
   "metadata": {},
   "source": [
    "### Programme"
   ]
  },
  {
   "cell_type": "code",
   "execution_count": 22,
   "metadata": {},
   "outputs": [],
   "source": [
    "import matplotlib.pyplot as plt\n",
    "import autograd\n",
    "import math\n",
    "from autograd import numpy as np\n",
    "\n",
    "### Recherche de l'amorce\n",
    "\n",
    "def find_seed(g, a=0, b=1, c=0, eps=2**-26) :\n",
    "    \"\"\"Approche par dichotomie un antecedent a c par la fonction continue g,\n",
    "    en demarrant la dichotomie aux points a et b. S'arrete a une precision eps (longeur de l'intervalle de fluctuation).\n",
    "    Leve une exception si la condition de base de la dichotomie n'est pas respectee.\"\"\"\n",
    "    \n",
    "    if b<a : a,b = b,a\n",
    "        \n",
    "    if g(a)>g(b) :\n",
    "        h = lambda x : c-g(x)\n",
    "    else :\n",
    "        h = lambda x : g(x)-c\n",
    "    #on se ramene a une fonction \"presque croissante\" a annuler\n",
    "\n",
    "    assert h(a)*h(b)<=0\n",
    "    \n",
    "    for i in range(20) : #si au bout de 20 tours on n'est toujours pas sous eps, on arrete quand même\n",
    "        m = (b+a)/2\n",
    "        if h(m)<0 : a = m\n",
    "        else : b = m\n",
    "        if b-a<eps : break\n",
    "    \n",
    "    return (b+a)/2\n",
    "\n",
    "\n",
    "### Définition de la fonction f\n",
    "\n",
    "def f(x, y):\n",
    "    \"\"\"Définit la fonction dont on veut déterminer les lignes de niveaux\"\"\"\n",
    "    return x**2 + y**2 - x\n",
    "\n",
    "### Calcul de la fonction gradient à partir de autograd\n",
    "\n",
    "def gradient(f):\n",
    "    \"\"\"Renvoie les dérivées partielles de f fonction de deux variables\"\"\"\n",
    "    g = autograd.grad\n",
    "    return g(f, 0), g(f, 1)\n",
    "\n",
    "### Définition du problème à deux conditions\n",
    "\n",
    "def g(x, y, a, b, c, delta):\n",
    "    \"\"\"Définit la fonction g qui contient la condition de ligne de niveau et de distance entre chaque itération\"\"\"\n",
    "    return np.array([f(x,y)-c, (x - a)**2 + (y - b)**2 - delta**2])\n",
    "\n",
    "### Calcul du point servant de départ au prochain calcul\n",
    "    \n",
    "def point_suivant(f, a, b, delta):\n",
    "    \"\"\"Calcul le point de départ de la prochaine itération à partir du gradient\"\"\"\n",
    "    v = np.array([gradient(f)[1](float(a), float(b)), -gradient(f)[0](float(a), float(b))])\n",
    "    u = v/(math.sqrt(v[0]**2 + v[1]**2))\n",
    "    x0 = a + delta*u[0]\n",
    "    y0 = b + delta*u[1]\n",
    "    return (x0, y0)\n",
    "\n",
    "### Création de la jacobienne de g à partir du gradient de f\n",
    "\n",
    "def jacob(f, x, y):\n",
    "    \"\"\"Calcul de la jacobienne de g à partir des dérivées partielles de f\"\"\"\n",
    "    gf1 = gradient(f)[0](x,y)\n",
    "    gf2 = gradient(f)[1](x,y)\n",
    "    return np.array([[gf1, gf2], [2*x, 2*y]])\n",
    "\n",
    "### Calcul d'un déterminant d'un matrice 2x2\n",
    "\n",
    "def determinant(M) :\n",
    "    \"\"\"Renvoie le déterminant d'un matrice 2x2\"\"\"\n",
    "    a, b, c, d = M[0][0], M[1][0], M[0][1], M[1][1]\n",
    "    return a*d - b*c\n",
    "    \n",
    "### Calcul de l'inverse d'un matrice 2x2\n",
    "\n",
    "def inverse(M):\n",
    "    \"\"\"Renvoie l'inverse d'un matrice 2x2 inversible\"\"\"\n",
    "    a, b, c, d = M[0][0], M[1][0], M[0][1], M[1][1]\n",
    "    try :\n",
    "        return np.array([[d, -c],[-b, a]])/determinant(M)\n",
    "    except :\n",
    "        raise Exception(\"Matrice singulière\")\n",
    "\n",
    "### Calcul des points de la ligne de niveau\n",
    "\n",
    "def contour_newton(f, c=0, delta=0.01, depart='gauche'):\n",
    "    \n",
    "    if depart==\"gauche\" :\n",
    "        h = lambda y : f(0,y)\n",
    "        a = 0\n",
    "        try : b = find_seed(h,c=c)\n",
    "        except Exception as Exc:\n",
    "            return [],[]\n",
    "    elif depart==\"droite\" :\n",
    "        h = lambda y : f(1,y)\n",
    "        a = 1\n",
    "        try : b = find_seed(h,c=c)\n",
    "        except Exception as Exc:\n",
    "            return [],[]\n",
    "    elif depart==\"bas\" :\n",
    "        h = lambda x : f(x,0)\n",
    "        b=0\n",
    "        try : a = find_seed(h,c=c)\n",
    "        except Exception as Exc:\n",
    "            return [],[]\n",
    "    elif depart==\"haut\" :\n",
    "        b=1\n",
    "        h = lambda x : f(x,1)\n",
    "        try : a = find_seed(h,c=c)\n",
    "        except Exception as Exc :\n",
    "            return [],[]\n",
    "    else : raise ValueError(\"depart doit etre haut, bas, droite ou gauche\")\n",
    "    \n",
    "    epsilon = 10**(-10)\n",
    "    x0, y0 = a, b\n",
    "    x1, y1 = x0, y0\n",
    "    X, Y = [], []\n",
    "    \n",
    "    while x1 >= 0 and x1 <= 1 and y1 >= 0 and y1 <= 1 :\n",
    "        \n",
    "        k = 0\n",
    "        a, b = x1, y1\n",
    "        \n",
    "        X.append(x1)\n",
    "        Y.append(y1)\n",
    "        \n",
    "        x0 = point_suivant(f, a, b, delta)[0]\n",
    "        y0 = point_suivant(f, a, b, delta)[1]\n",
    "        \n",
    "        while abs(f(x1, y1)-c) > epsilon and k <= 30: # on s'arrête forcément au-delà de 30 itérations\n",
    "            \n",
    "            jac_g = jacob(f, x0, y0)\n",
    "            invJ = inverse(jac_g)\n",
    "            g1 = g(x0, y0, a, b, c, delta)[0]\n",
    "            g2 = g(x0, y0, a, b, c, delta)[1]\n",
    "            Z = np.array([x0, y0]) - np.array([g1*invJ[0][0] + g2*invJ[0][1], g1*invJ[1][0] + g2*invJ[1][1]])\n",
    "            x1, y1 = Z[0], Z[1]\n",
    "            k = k + 1\n",
    "            \n",
    "    return np.array(X), np.array(Y)"
   ]
  },
  {
   "cell_type": "code",
   "execution_count": 23,
   "metadata": {},
   "outputs": [
    {
     "data": {
      "image/png": "[encoded data removed]",
      "text/plain": [
       "<Figure size 432x288 with 1 Axes>"
      ]
     },
     "metadata": {
      "needs_background": "light"
     },
     "output_type": "display_data"
    }
   ],
   "source": [
    "C0 = contour_newton(f, 0.05)\n",
    "C1 = contour_newton(f, 0.1)\n",
    "C2 = contour_newton(f, 0.3)\n",
    "C3 = contour_newton(f, 0.5)\n",
    "plt.plot(C0[0], C0[1], color='tab:brown')\n",
    "plt.plot(C1[0], C1[1], color='tab:purple')\n",
    "plt.plot(C2[0], C2[1], color='tab:cyan')\n",
    "plt.plot(C3[0], C3[1], color='tab:orange')\n",
    "plt.axis([0, 1, 0, 1])\n",
    "plt.show()"
   ]
  },
  {
   "cell_type": "markdown",
   "metadata": {},
   "source": [
    "### Critique"
   ]
  },
  {
   "cell_type": "markdown",
   "metadata": {},
   "source": [
    "$\\rightarrow$ Cette méthode est en fait l'amélioration de la méthode du gradient puisqu'elle prend chacun des points de la méthode précédente comme amorce pour converger vers un point fixe, elle est donc plus précise et propage moins d'erreurs.\n",
    "\n",
    "$\\rightarrow$ Là aussi, un gradient nul pose problème car il empêche de trouver un amorce au prochain calcul, et la méthode de Newton qui en découle pourrait converger vers le mauvais point de la ligne de niveau ou même rebrousser chemin.\n",
    "\n",
    "$\\rightarrow$ De plus, on calcule à chaque étape la jacobienne qui sera par la suite inversée, ce que l'on est pas garanti de pouvoir faire à chaque itération : cette méthode renvoie une erreur si la courbe de niveau n'est pas inversible localement sur un point du domaine concerné, ce qui est trés restrictif quant aux fonctions sur lesquelles on peut espérer travailler\n",
    "\n",
    "$\\rightarrow$ On remarque aussi que la recherche n'arrive pas à converger pour une valeur de $\\delta$ trop faible, ce qui interdit une précision trop poussée"
   ]
  },
  {
   "cell_type": "markdown",
   "metadata": {},
   "source": [
    "# Comparaison en temps"
   ]
  },
  {
   "cell_type": "code",
   "execution_count": 25,
   "metadata": {},
   "outputs": [],
   "source": [
    "### Prenons par exemple cette fonction ni trop simple, ni trop compliquée\n",
    "\n",
    "def f(x,y):\n",
    "    return (x**2+y**2-x)*np.cos(x*y)"
   ]
  },
  {
   "cell_type": "code",
   "execution_count": 30,
   "metadata": {},
   "outputs": [
    {
     "data": {
      "image/png": "[encoded data removed]",
      "text/plain": [
       "<Figure size 432x288 with 1 Axes>"
      ]
     },
     "metadata": {
      "needs_background": "light"
     },
     "output_type": "display_data"
    },
    {
     "name": "stdout",
     "output_type": "stream",
     "text": [
      "Wall time: 162 ms\n"
     ]
    }
   ],
   "source": [
    "%%time\n",
    "A = simple_contour(f, 0.5)\n",
    "plt.plot(A[0], A[1], color = 'tab:pink')\n",
    "plt.show()"
   ]
  },
  {
   "cell_type": "code",
   "execution_count": 31,
   "metadata": {},
   "outputs": [
    {
     "data": {
      "image/png": "[encoded data removed]",
      "text/plain": [
       "<Figure size 432x288 with 1 Axes>"
      ]
     },
     "metadata": {
      "needs_background": "light"
     },
     "output_type": "display_data"
    },
    {
     "name": "stdout",
     "output_type": "stream",
     "text": [
      "Wall time: 260 ms\n"
     ]
    }
   ],
   "source": [
    "%%time\n",
    "B = contour_avec_gradient(f, 0.5)\n",
    "plt.plot(B[0], B[1], color = 'tab:olive')\n",
    "plt.show()"
   ]
  },
  {
   "cell_type": "code",
   "execution_count": 32,
   "metadata": {},
   "outputs": [
    {
     "data": {
      "image/png": "[encoded data removed]",
      "text/plain": [
       "<Figure size 432x288 with 1 Axes>"
      ]
     },
     "metadata": {
      "needs_background": "light"
     },
     "output_type": "display_data"
    },
    {
     "name": "stdout",
     "output_type": "stream",
     "text": [
      "Wall time: 5.39 s\n"
     ]
    }
   ],
   "source": [
    "%%time\n",
    "C = contour_newton(f, 0.5)\n",
    "plt.plot(C[0], C[1], color = 'm')\n",
    "plt.show()"
   ]
  },
  {
   "cell_type": "code",
   "execution_count": 34,
   "metadata": {},
   "outputs": [
    {
     "data": {
      "image/png": "[encoded data removed]",
      "text/plain": [
       "<Figure size 432x288 with 1 Axes>"
      ]
     },
     "metadata": {
      "needs_background": "light"
     },
     "output_type": "display_data"
    },
    {
     "data": {
      "image/png": "[encoded data removed]",
      "text/plain": [
       "<Figure size 432x288 with 1 Axes>"
      ]
     },
     "metadata": {
      "needs_background": "light"
     },
     "output_type": "display_data"
    }
   ],
   "source": [
    "### Comparaison graphique des résultats\n",
    "\n",
    "plt.plot(A[0], A[1], color = 'tab:pink') # méthode de dichotomie en rouge\n",
    "plt.plot(B[0], B[1], color = 'tab:olive') # méthode du gradient\n",
    "plt.plot(C[0], C[1], color = 'm') # méthode de Newton\n",
    "plt.show()\n",
    "\n",
    "### Zoom\n",
    "\n",
    "plt.plot(A[0], A[1], color = 'tab:pink') # méthode de dichotomie en rouge\n",
    "plt.plot(B[0], B[1], color = 'tab:olive') # méthode du gradient\n",
    "plt.plot(C[0], C[1], color = 'm') # méthode de Newton\n",
    "plt.axis([0.6,0.9,0.88,0.92])\n",
    "plt.show()\n",
    "\n",
    "### On remarque la propagation de l'erreur pour la méthode avec gradient"
   ]
  },
  {
   "cell_type": "markdown",
   "metadata": {},
   "source": [
    "# Conclusion"
   ]
  },
  {
   "cell_type": "markdown",
   "metadata": {},
   "source": [
    "$\\rightarrow$ La méthode du gradient est rapide, imprécise et restrictive\n",
    "\n",
    "$\\rightarrow$ La méthode de Newton est lente, précise et restrictive\n",
    "\n",
    "$\\rightarrow$ La méthode de dichotomie est rapide, précise et quasiment non-restrictive"
   ]
  },
  {
   "cell_type": "code",
   "execution_count": 13,
   "metadata": {},
   "outputs": [
    {
     "data": {
      "image/png": "[encoded data removed]",
      "text/plain": [
       "<Figure size 432x288 with 1 Axes>"
      ]
     },
     "metadata": {
      "needs_background": "light"
     },
     "output_type": "display_data"
    }
   ],
   "source": [
    "### Le produit final\n",
    "\n",
    "def f(x,y) :\n",
    "    return 2*(np.exp(-x*x-y*y)-np.exp(-(x-1)**2-(y-1)**2))\n",
    "\n",
    "plt.axis([-2, 3, -1, 2])\n",
    "C = [-1.5, -1.0, -0.5, 0.0, 0.5, 1.0, 1.5]\n",
    "\n",
    "for c in C :\n",
    "    X, Y = contour(f,c,xc=[-2,-1,0,1,3], yc=[-2,-1,0,1,2],ext=False)\n",
    "    for XX, YY in zip(X,Y) :\n",
    "        plt.plot(XX,YY,color=\"black\")\n",
    "\n",
    "plt.show()"
   ]
  }
 ],
 "metadata": {
  "kernelspec": {
   "display_name": "Python 3",
   "language": "python",
   "name": "python3"
  },
  "language_info": {
   "codemirror_mode": {
    "name": "ipython",
    "version": 3
   },
   "file_extension": ".py",
   "mimetype": "text/x-python",
   "name": "python",
   "nbconvert_exporter": "python",
   "pygments_lexer": "ipython3",
   "version": "3.7.3"
  }
 },
 "nbformat": 4,
 "nbformat_minor": 2
}
